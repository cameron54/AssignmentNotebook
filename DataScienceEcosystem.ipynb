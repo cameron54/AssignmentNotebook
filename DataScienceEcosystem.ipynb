{
 "cells": [
  {
   "cell_type": "markdown",
   "id": "be84ab44",
   "metadata": {},
   "source": [
    "# Data Science Tools and Ecosystem"
   ]
  },
  {
   "cell_type": "markdown",
   "id": "eacd6c86",
   "metadata": {},
   "source": [
    "in this note book, Data Science and Ecosystem are sumarized."
   ]
  },
  {
   "cell_type": "markdown",
   "id": "d50dd89d",
   "metadata": {},
   "source": [
    "**Objectives:**\n",
    "* List popular data science tools\n",
    "* List common data science libraries\n",
    "* Convert hours to minuets"
   ]
  },
  {
   "cell_type": "markdown",
   "id": "41c11e64",
   "metadata": {},
   "source": [
    "Some of the popular languages that Data Scientists use are:\n",
    "1. Python\n",
    "2. R\n",
    "3. Markdown"
   ]
  },
  {
   "cell_type": "markdown",
   "id": "0b82d016",
   "metadata": {},
   "source": [
    "Some of the commonly used libraries used by Data Scientists include:\n",
    "1. plotly\n",
    "2. ggplot\n",
    "3. leaflet"
   ]
  },
  {
   "cell_type": "markdown",
   "id": "4fa01f48",
   "metadata": {},
   "source": [
    "| Data Science Tools |\n",
    "| ------------------- |\n",
    "|Anaconda|\n",
    "|github|\n",
    "|rstudios|\n"
   ]
  },
  {
   "cell_type": "markdown",
   "id": "b72bad5f",
   "metadata": {},
   "source": [
    "### Below are a few examples of evaluating arithmetic expressions in Python"
   ]
  },
  {
   "cell_type": "code",
   "execution_count": 3,
   "id": "1a507655",
   "metadata": {},
   "outputs": [
    {
     "data": {
      "text/plain": [
       "17"
      ]
     },
     "execution_count": 3,
     "metadata": {},
     "output_type": "execute_result"
    }
   ],
   "source": [
    "# This is a simple arithmetic expression to multiply and then add integers\n",
    "\n",
    "(3*4)+5"
   ]
  },
  {
   "cell_type": "code",
   "execution_count": 4,
   "id": "08bc1f68",
   "metadata": {},
   "outputs": [
    {
     "data": {
      "text/plain": [
       "3.3333333333333335"
      ]
     },
     "execution_count": 4,
     "metadata": {},
     "output_type": "execute_result"
    }
   ],
   "source": [
    "# This will convert 200 minuets to hours by dividing by 60\n",
    "200/60"
   ]
  },
  {
   "cell_type": "markdown",
   "id": "a8c11464",
   "metadata": {},
   "source": [
    "## Author\n",
    "Cameron Eagles"
   ]
  },
  {
   "cell_type": "code",
   "execution_count": null,
   "id": "460b3758",
   "metadata": {},
   "outputs": [],
   "source": []
  }
 ],
 "metadata": {
  "kernelspec": {
   "display_name": "Python 3 (ipykernel)",
   "language": "python",
   "name": "python3"
  },
  "language_info": {
   "codemirror_mode": {
    "name": "ipython",
    "version": 3
   },
   "file_extension": ".py",
   "mimetype": "text/x-python",
   "name": "python",
   "nbconvert_exporter": "python",
   "pygments_lexer": "ipython3",
   "version": "3.10.9"
  }
 },
 "nbformat": 4,
 "nbformat_minor": 5
}
